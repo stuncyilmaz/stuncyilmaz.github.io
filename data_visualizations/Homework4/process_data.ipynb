{
 "cells": [
  {
   "cell_type": "code",
   "execution_count": 4,
   "metadata": {
    "collapsed": false
   },
   "outputs": [],
   "source": [
    "import pandas as pd\n",
    "import numpy as np\n",
    "import json"
   ]
  },
  {
   "cell_type": "code",
   "execution_count": 5,
   "metadata": {
    "collapsed": true
   },
   "outputs": [],
   "source": [
    "df=pd.io.parsers.read_csv('data.csv')"
   ]
  },
  {
   "cell_type": "code",
   "execution_count": 6,
   "metadata": {
    "collapsed": false
   },
   "outputs": [
    {
     "data": {
      "text/plain": [
       "Index([u'title', u'year', u'length', u'rating', u'votes', u'r1', u'r2', u'r3', u'r4', u'r5', u'r6', u'r7', u'r8', u'r9', u'r10', u'mpaa', u'Action', u'Animation', u'Comedy', u'Drama', u'Documentary', u'Romance', u'Short'], dtype='object')"
      ]
     },
     "execution_count": 6,
     "metadata": {},
     "output_type": "execute_result"
    }
   ],
   "source": [
    "df.columns"
   ]
  },
  {
   "cell_type": "code",
   "execution_count": null,
   "metadata": {
    "collapsed": false
   },
   "outputs": [],
   "source": []
  },
  {
   "cell_type": "code",
   "execution_count": null,
   "metadata": {
    "collapsed": false
   },
   "outputs": [],
   "source": []
  },
  {
   "cell_type": "code",
   "execution_count": 35,
   "metadata": {
    "collapsed": false
   },
   "outputs": [
    {
     "data": {
      "text/plain": [
       "array(['Action', u'Animation', u'Comedy', u'Documentary', u'Drama',\n",
       "       u'Romance', u'Short'], dtype=object)"
      ]
     },
     "execution_count": 35,
     "metadata": {},
     "output_type": "execute_result"
    }
   ],
   "source": [
    "df['All']=1\n",
    "df_1=pd.melt(df, id_vars=[u'title','rating'], \\\n",
    "        value_vars=['Action', u'Animation', u'Comedy', u'Drama', u'Documentary', u'Romance', u'Short'])\n",
    "\n",
    "df_1=df_1[df_1['value']==1][['variable','rating']]\n",
    "df_1.rename(columns={'variable': 'group', 'rating':'rating'}, inplace=True)\n",
    "df_1=df_1.groupby('group').count().reset_index()\n",
    "df_1.rename(columns={'group': 'category', 'rating':'measure'}, inplace=True)\n",
    "df_1['category'].unique()"
   ]
  },
  {
   "cell_type": "code",
   "execution_count": 36,
   "metadata": {
    "collapsed": true
   },
   "outputs": [],
   "source": [
    "df_1.T.to_json('df_1.json')"
   ]
  },
  {
   "cell_type": "code",
   "execution_count": 42,
   "metadata": {
    "collapsed": false
   },
   "outputs": [
    {
     "data": {
      "text/plain": [
       "array([1893, 1894, 1895, 1896, 1897, 1898, 1899, 1900, 1901, 1902, 1903,\n",
       "       1904, 1905, 1906, 1907, 1908, 1909, 1910, 1911, 1912, 1913, 1914,\n",
       "       1915, 1916, 1917, 1918, 1919, 1920, 1921, 1922, 1923, 1924, 1925,\n",
       "       1926, 1927, 1928, 1929, 1930, 1931, 1932, 1933, 1934, 1935, 1936,\n",
       "       1937, 1938, 1939, 1940, 1941, 1942, 1943, 1944, 1945, 1946, 1947,\n",
       "       1948, 1949, 1950, 1951, 1952, 1953, 1954, 1955, 1956, 1957, 1958,\n",
       "       1959, 1960, 1961, 1962, 1963, 1964, 1965, 1966, 1967, 1968, 1969,\n",
       "       1970, 1971, 1972, 1973, 1974, 1975, 1976, 1977, 1978, 1979, 1980,\n",
       "       1981, 1982, 1983, 1984, 1985, 1986, 1987, 1988, 1989, 1990, 1991,\n",
       "       1992, 1993, 1994, 1995, 1996, 1997, 1998, 1999, 2000, 2001, 2002,\n",
       "       2003, 2004, 2005])"
      ]
     },
     "execution_count": 42,
     "metadata": {},
     "output_type": "execute_result"
    }
   ],
   "source": [
    "df_2=pd.melt(df, id_vars=[u'title','rating','year'], \\\n",
    "        value_vars=['All','Action', u'Animation', u'Comedy', u'Drama', u'Documentary', u'Romance', u'Short'])\n",
    "df_2=df_2[df_2['value']==1]\n",
    "df_2=df_2.groupby(['year','variable']).mean().reset_index()\n",
    "df_2.rename(columns={'variable': 'group', 'rating':'rating'}, inplace=True)\n",
    "df_2=df_2[['year','group','rating']]\n",
    "df_2.rename(columns={'group': 'group', 'rating':'measure','year':'category'}, inplace=True)\n",
    "df_2['category'].unique()"
   ]
  },
  {
   "cell_type": "code",
   "execution_count": 38,
   "metadata": {
    "collapsed": true
   },
   "outputs": [],
   "source": [
    "df_2.T.to_json('df_2.json')"
   ]
  },
  {
   "cell_type": "code",
   "execution_count": 40,
   "metadata": {
    "collapsed": false
   },
   "outputs": [
    {
     "data": {
      "text/plain": [
       "array(['Action', 'All', u'Animation', u'Comedy', u'Documentary', u'Drama',\n",
       "       u'Romance', u'Short'], dtype=object)"
      ]
     },
     "execution_count": 40,
     "metadata": {},
     "output_type": "execute_result"
    }
   ],
   "source": [
    "df_3=pd.melt(df, id_vars=list(df.columns[:15]), \\\n",
    "        value_vars=['All','Action', u'Animation', u'Comedy', u'Drama', u'Documentary', u'Romance', u'Short'])\n",
    "df_3=df_3[df_3['value']==1]\n",
    "df_3=df_3.groupby(['variable']).\\\n",
    "apply(lambda g:np.mean(g[['r1','r2','r3','r4','r5','r6','r7','r8','r9','r10']])).reset_index()\n",
    "df_3.rename(columns={'variable': 'group'}, inplace=True)\n",
    "\n",
    "df_3=pd.melt(df_3, id_vars=[u'group'], \\\n",
    "        value_vars=['r1','r2','r3','r4','r5','r6','r7','r8','r9','r10'])\n",
    "df_3.rename(columns={'group': 'group', 'value':'measure','variable':'category'}, inplace=True)\n",
    "df_3['group'].unique()"
   ]
  },
  {
   "cell_type": "code",
   "execution_count": 41,
   "metadata": {
    "collapsed": false
   },
   "outputs": [],
   "source": [
    "df_3.T.to_json('df_3.json')"
   ]
  },
  {
   "cell_type": "code",
   "execution_count": 115,
   "metadata": {
    "collapsed": true
   },
   "outputs": [],
   "source": [
    "df_1.to_csv('first_bar.csv')\n",
    "df_2.to_csv('line.csv')\n",
    "df_3.to_csv('second_bar.csv')"
   ]
  },
  {
   "cell_type": "code",
   "execution_count": null,
   "metadata": {
    "collapsed": true
   },
   "outputs": [],
   "source": []
  },
  {
   "cell_type": "code",
   "execution_count": null,
   "metadata": {
    "collapsed": true
   },
   "outputs": [],
   "source": []
  }
 ],
 "metadata": {
  "kernelspec": {
   "display_name": "Python 2",
   "language": "python",
   "name": "python2"
  },
  "language_info": {
   "codemirror_mode": {
    "name": "ipython",
    "version": 2
   },
   "file_extension": ".py",
   "mimetype": "text/x-python",
   "name": "python",
   "nbconvert_exporter": "python",
   "pygments_lexer": "ipython2",
   "version": "2.7.6"
  }
 },
 "nbformat": 4,
 "nbformat_minor": 0
}
