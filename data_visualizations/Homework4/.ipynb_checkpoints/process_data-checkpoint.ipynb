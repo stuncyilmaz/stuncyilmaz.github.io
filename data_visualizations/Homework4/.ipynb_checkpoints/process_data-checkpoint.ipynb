{
 "cells": [
  {
   "cell_type": "code",
   "execution_count": 4,
   "metadata": {
    "collapsed": false
   },
   "outputs": [],
   "source": [
    "import pandas as pd\n",
    "import numpy as np\n",
    "import json"
   ]
  },
  {
   "cell_type": "code",
   "execution_count": 5,
   "metadata": {
    "collapsed": true
   },
   "outputs": [],
   "source": [
    "df=pd.io.parsers.read_csv('data.csv')"
   ]
  },
  {
   "cell_type": "code",
   "execution_count": 6,
   "metadata": {
    "collapsed": false
   },
   "outputs": [
    {
     "data": {
      "text/plain": [
       "Index([u'title', u'year', u'length', u'rating', u'votes', u'r1', u'r2', u'r3', u'r4', u'r5', u'r6', u'r7', u'r8', u'r9', u'r10', u'mpaa', u'Action', u'Animation', u'Comedy', u'Drama', u'Documentary', u'Romance', u'Short'], dtype='object')"
      ]
     },
     "execution_count": 6,
     "metadata": {},
     "output_type": "execute_result"
    }
   ],
   "source": [
    "df.columns"
   ]
  },
  {
   "cell_type": "code",
   "execution_count": null,
   "metadata": {
    "collapsed": false
   },
   "outputs": [],
   "source": []
  },
  {
   "cell_type": "code",
   "execution_count": null,
   "metadata": {
    "collapsed": false
   },
   "outputs": [],
   "source": []
  },
  {
   "cell_type": "code",
   "execution_count": 14,
   "metadata": {
    "collapsed": false
   },
   "outputs": [
    {
     "data": {
      "text/html": [
       "<div style=\"max-height:1000px;max-width:1500px;overflow:auto;\">\n",
       "<table border=\"1\" class=\"dataframe\">\n",
       "  <thead>\n",
       "    <tr style=\"text-align: right;\">\n",
       "      <th></th>\n",
       "      <th>category</th>\n",
       "      <th>measure</th>\n",
       "    </tr>\n",
       "  </thead>\n",
       "  <tbody>\n",
       "    <tr>\n",
       "      <th>0</th>\n",
       "      <td>Action</td>\n",
       "      <td>4688</td>\n",
       "    </tr>\n",
       "    <tr>\n",
       "      <th>1</th>\n",
       "      <td>Animation</td>\n",
       "      <td>3690</td>\n",
       "    </tr>\n",
       "    <tr>\n",
       "      <th>2</th>\n",
       "      <td>Comedy</td>\n",
       "      <td>17271</td>\n",
       "    </tr>\n",
       "    <tr>\n",
       "      <th>3</th>\n",
       "      <td>Documentary</td>\n",
       "      <td>3472</td>\n",
       "    </tr>\n",
       "    <tr>\n",
       "      <th>4</th>\n",
       "      <td>Drama</td>\n",
       "      <td>21811</td>\n",
       "    </tr>\n",
       "    <tr>\n",
       "      <th>5</th>\n",
       "      <td>Romance</td>\n",
       "      <td>4744</td>\n",
       "    </tr>\n",
       "    <tr>\n",
       "      <th>6</th>\n",
       "      <td>Short</td>\n",
       "      <td>9458</td>\n",
       "    </tr>\n",
       "  </tbody>\n",
       "</table>\n",
       "</div>"
      ],
      "text/plain": [
       "      category  measure\n",
       "0       Action     4688\n",
       "1    Animation     3690\n",
       "2       Comedy    17271\n",
       "3  Documentary     3472\n",
       "4        Drama    21811\n",
       "5      Romance     4744\n",
       "6        Short     9458"
      ]
     },
     "execution_count": 14,
     "metadata": {},
     "output_type": "execute_result"
    }
   ],
   "source": [
    "df['all_categories']=1\n",
    "df_1=pd.melt(df, id_vars=[u'title','rating'], \\\n",
    "        value_vars=['Action', u'Animation', u'Comedy', u'Drama', u'Documentary', u'Romance', u'Short'])\n",
    "\n",
    "df_1=df_1[df_1['value']==1][['variable','rating']]\n",
    "df_1.rename(columns={'variable': 'group', 'rating':'rating'}, inplace=True)\n",
    "df_1=df_1.groupby('group').count().reset_index()\n",
    "df_1.rename(columns={'group': 'category', 'rating':'measure'}, inplace=True)\n",
    "df_1"
   ]
  },
  {
   "cell_type": "code",
   "execution_count": 15,
   "metadata": {
    "collapsed": true
   },
   "outputs": [],
   "source": [
    "df_1.T.to_json('df_1.json')"
   ]
  },
  {
   "cell_type": "code",
   "execution_count": 18,
   "metadata": {
    "collapsed": false
   },
   "outputs": [
    {
     "data": {
      "text/html": [
       "<div style=\"max-height:1000px;max-width:1500px;overflow:auto;\">\n",
       "<table border=\"1\" class=\"dataframe\">\n",
       "  <thead>\n",
       "    <tr style=\"text-align: right;\">\n",
       "      <th></th>\n",
       "      <th>category</th>\n",
       "      <th>group</th>\n",
       "      <th>measure</th>\n",
       "    </tr>\n",
       "  </thead>\n",
       "  <tbody>\n",
       "    <tr>\n",
       "      <th>0</th>\n",
       "      <td>1893</td>\n",
       "      <td>Short</td>\n",
       "      <td>7</td>\n",
       "    </tr>\n",
       "    <tr>\n",
       "      <th>1</th>\n",
       "      <td>1893</td>\n",
       "      <td>all_categories</td>\n",
       "      <td>7</td>\n",
       "    </tr>\n",
       "  </tbody>\n",
       "</table>\n",
       "</div>"
      ],
      "text/plain": [
       "   category           group  measure\n",
       "0      1893           Short        7\n",
       "1      1893  all_categories        7"
      ]
     },
     "execution_count": 18,
     "metadata": {},
     "output_type": "execute_result"
    }
   ],
   "source": [
    "df_2=pd.melt(df, id_vars=[u'title','rating','year'], \\\n",
    "        value_vars=['all_categories','Action', u'Animation', u'Comedy', u'Drama', u'Documentary', u'Romance', u'Short'])\n",
    "df_2=df_2[df_2['value']==1]\n",
    "df_2=df_2.groupby(['year','variable']).mean().reset_index()\n",
    "df_2.rename(columns={'variable': 'group', 'rating':'rating'}, inplace=True)\n",
    "df_2=df_2[['year','group','rating']]\n",
    "df_2.rename(columns={'group': 'group', 'rating':'measure','year':'category'}, inplace=True)\n",
    "df_2[:2]"
   ]
  },
  {
   "cell_type": "code",
   "execution_count": 19,
   "metadata": {
    "collapsed": true
   },
   "outputs": [],
   "source": [
    "df_2.T.to_json('df_2.json')"
   ]
  },
  {
   "cell_type": "code",
   "execution_count": 20,
   "metadata": {
    "collapsed": false
   },
   "outputs": [
    {
     "data": {
      "text/html": [
       "<div style=\"max-height:1000px;max-width:1500px;overflow:auto;\">\n",
       "<table border=\"1\" class=\"dataframe\">\n",
       "  <thead>\n",
       "    <tr style=\"text-align: right;\">\n",
       "      <th></th>\n",
       "      <th>group</th>\n",
       "      <th>category</th>\n",
       "      <th>measure</th>\n",
       "    </tr>\n",
       "  </thead>\n",
       "  <tbody>\n",
       "    <tr>\n",
       "      <th>0</th>\n",
       "      <td>Action</td>\n",
       "      <td>r1</td>\n",
       "      <td>10.350256</td>\n",
       "    </tr>\n",
       "    <tr>\n",
       "      <th>1</th>\n",
       "      <td>Animation</td>\n",
       "      <td>r1</td>\n",
       "      <td>2.881843</td>\n",
       "    </tr>\n",
       "    <tr>\n",
       "      <th>2</th>\n",
       "      <td>Comedy</td>\n",
       "      <td>r1</td>\n",
       "      <td>6.442042</td>\n",
       "    </tr>\n",
       "  </tbody>\n",
       "</table>\n",
       "</div>"
      ],
      "text/plain": [
       "       group category    measure\n",
       "0     Action       r1  10.350256\n",
       "1  Animation       r1   2.881843\n",
       "2     Comedy       r1   6.442042"
      ]
     },
     "execution_count": 20,
     "metadata": {},
     "output_type": "execute_result"
    }
   ],
   "source": [
    "df_3=pd.melt(df, id_vars=list(df.columns[:15]), \\\n",
    "        value_vars=['All','Action', u'Animation', u'Comedy', u'Drama', u'Documentary', u'Romance', u'Short'])\n",
    "df_3=df_3[df_3['value']==1]\n",
    "df_3=df_3.groupby(['variable']).\\\n",
    "apply(lambda g:np.mean(g[['r1','r2','r3','r4','r5','r6','r7','r8','r9','r10']])).reset_index()\n",
    "df_3.rename(columns={'variable': 'group'}, inplace=True)\n",
    "\n",
    "df_3=pd.melt(df_3, id_vars=[u'group'], \\\n",
    "        value_vars=['r1','r2','r3','r4','r5','r6','r7','r8','r9','r10'])\n",
    "df_3.rename(columns={'group': 'group', 'value':'measure','variable':'category'}, inplace=True)\n",
    "df_3[:3]"
   ]
  },
  {
   "cell_type": "code",
   "execution_count": 21,
   "metadata": {
    "collapsed": false
   },
   "outputs": [],
   "source": [
    "df_3.T.to_json('df_3.json')"
   ]
  },
  {
   "cell_type": "code",
   "execution_count": 115,
   "metadata": {
    "collapsed": true
   },
   "outputs": [],
   "source": [
    "df_1.to_csv('first_bar.csv')\n",
    "df_2.to_csv('line.csv')\n",
    "df_3.to_csv('second_bar.csv')"
   ]
  },
  {
   "cell_type": "code",
   "execution_count": null,
   "metadata": {
    "collapsed": true
   },
   "outputs": [],
   "source": []
  },
  {
   "cell_type": "code",
   "execution_count": null,
   "metadata": {
    "collapsed": true
   },
   "outputs": [],
   "source": []
  }
 ],
 "metadata": {
  "kernelspec": {
   "display_name": "Python 2",
   "language": "python",
   "name": "python2"
  },
  "language_info": {
   "codemirror_mode": {
    "name": "ipython",
    "version": 2
   },
   "file_extension": ".py",
   "mimetype": "text/x-python",
   "name": "python",
   "nbconvert_exporter": "python",
   "pygments_lexer": "ipython2",
   "version": "2.7.6"
  }
 },
 "nbformat": 4,
 "nbformat_minor": 0
}
